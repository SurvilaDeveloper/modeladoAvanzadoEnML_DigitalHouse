{
 "cells": [
  {
   "cell_type": "code",
   "execution_count": 50,
   "id": "d182bbaf",
   "metadata": {},
   "outputs": [],
   "source": [
    "import numpy as np\n",
    "import pandas as pd\n",
    "from sklearn.linear_model import LinearRegression, Lasso\n",
    "from sklearn.model_selection import train_test_split\n",
    "from sklearn.preprocessing import StandardScaler\n",
    "from sklearn.metrics import mean_squared_error\n",
    "from sklearn import tree"
   ]
  },
  {
   "cell_type": "code",
   "execution_count": 51,
   "id": "cd873b2d",
   "metadata": {},
   "outputs": [
    {
     "data": {
      "text/plain": [
       "(322, 20)"
      ]
     },
     "execution_count": 51,
     "metadata": {},
     "output_type": "execute_result"
    }
   ],
   "source": [
    "data_raw = pd.read_csv('./csv/Hitters.csv')\n",
    "data_raw.shape"
   ]
  },
  {
   "cell_type": "code",
   "execution_count": 52,
   "id": "a4ee3ad6",
   "metadata": {},
   "outputs": [],
   "source": [
    "data_complete = data_raw.dropna()"
   ]
  },
  {
   "cell_type": "code",
   "execution_count": 53,
   "id": "0ac07e46",
   "metadata": {},
   "outputs": [
    {
     "data": {
      "text/plain": [
       "(263, 20)"
      ]
     },
     "execution_count": 53,
     "metadata": {},
     "output_type": "execute_result"
    }
   ],
   "source": [
    "data_complete.shape"
   ]
  },
  {
   "cell_type": "code",
   "execution_count": 54,
   "id": "0d5cfc0b",
   "metadata": {},
   "outputs": [
    {
     "data": {
      "text/html": [
       "<div>\n",
       "<style scoped>\n",
       "    .dataframe tbody tr th:only-of-type {\n",
       "        vertical-align: middle;\n",
       "    }\n",
       "\n",
       "    .dataframe tbody tr th {\n",
       "        vertical-align: top;\n",
       "    }\n",
       "\n",
       "    .dataframe thead th {\n",
       "        text-align: right;\n",
       "    }\n",
       "</style>\n",
       "<table border=\"1\" class=\"dataframe\">\n",
       "  <thead>\n",
       "    <tr style=\"text-align: right;\">\n",
       "      <th></th>\n",
       "      <th>AtBat</th>\n",
       "      <th>Hits</th>\n",
       "      <th>HmRun</th>\n",
       "      <th>Runs</th>\n",
       "      <th>RBI</th>\n",
       "      <th>Walks</th>\n",
       "      <th>Years</th>\n",
       "      <th>CAtBat</th>\n",
       "      <th>CHits</th>\n",
       "      <th>CHmRun</th>\n",
       "      <th>CRuns</th>\n",
       "      <th>CRBI</th>\n",
       "      <th>CWalks</th>\n",
       "      <th>League</th>\n",
       "      <th>Division</th>\n",
       "      <th>PutOuts</th>\n",
       "      <th>Assists</th>\n",
       "      <th>Errors</th>\n",
       "      <th>Salary</th>\n",
       "      <th>NewLeague</th>\n",
       "    </tr>\n",
       "  </thead>\n",
       "  <tbody>\n",
       "    <tr>\n",
       "      <th>1</th>\n",
       "      <td>315</td>\n",
       "      <td>81</td>\n",
       "      <td>7</td>\n",
       "      <td>24</td>\n",
       "      <td>38</td>\n",
       "      <td>39</td>\n",
       "      <td>14</td>\n",
       "      <td>3449</td>\n",
       "      <td>835</td>\n",
       "      <td>69</td>\n",
       "      <td>321</td>\n",
       "      <td>414</td>\n",
       "      <td>375</td>\n",
       "      <td>N</td>\n",
       "      <td>W</td>\n",
       "      <td>632</td>\n",
       "      <td>43</td>\n",
       "      <td>10</td>\n",
       "      <td>475.0</td>\n",
       "      <td>N</td>\n",
       "    </tr>\n",
       "    <tr>\n",
       "      <th>2</th>\n",
       "      <td>479</td>\n",
       "      <td>130</td>\n",
       "      <td>18</td>\n",
       "      <td>66</td>\n",
       "      <td>72</td>\n",
       "      <td>76</td>\n",
       "      <td>3</td>\n",
       "      <td>1624</td>\n",
       "      <td>457</td>\n",
       "      <td>63</td>\n",
       "      <td>224</td>\n",
       "      <td>266</td>\n",
       "      <td>263</td>\n",
       "      <td>A</td>\n",
       "      <td>W</td>\n",
       "      <td>880</td>\n",
       "      <td>82</td>\n",
       "      <td>14</td>\n",
       "      <td>480.0</td>\n",
       "      <td>A</td>\n",
       "    </tr>\n",
       "    <tr>\n",
       "      <th>3</th>\n",
       "      <td>496</td>\n",
       "      <td>141</td>\n",
       "      <td>20</td>\n",
       "      <td>65</td>\n",
       "      <td>78</td>\n",
       "      <td>37</td>\n",
       "      <td>11</td>\n",
       "      <td>5628</td>\n",
       "      <td>1575</td>\n",
       "      <td>225</td>\n",
       "      <td>828</td>\n",
       "      <td>838</td>\n",
       "      <td>354</td>\n",
       "      <td>N</td>\n",
       "      <td>E</td>\n",
       "      <td>200</td>\n",
       "      <td>11</td>\n",
       "      <td>3</td>\n",
       "      <td>500.0</td>\n",
       "      <td>N</td>\n",
       "    </tr>\n",
       "    <tr>\n",
       "      <th>4</th>\n",
       "      <td>321</td>\n",
       "      <td>87</td>\n",
       "      <td>10</td>\n",
       "      <td>39</td>\n",
       "      <td>42</td>\n",
       "      <td>30</td>\n",
       "      <td>2</td>\n",
       "      <td>396</td>\n",
       "      <td>101</td>\n",
       "      <td>12</td>\n",
       "      <td>48</td>\n",
       "      <td>46</td>\n",
       "      <td>33</td>\n",
       "      <td>N</td>\n",
       "      <td>E</td>\n",
       "      <td>805</td>\n",
       "      <td>40</td>\n",
       "      <td>4</td>\n",
       "      <td>91.5</td>\n",
       "      <td>N</td>\n",
       "    </tr>\n",
       "    <tr>\n",
       "      <th>5</th>\n",
       "      <td>594</td>\n",
       "      <td>169</td>\n",
       "      <td>4</td>\n",
       "      <td>74</td>\n",
       "      <td>51</td>\n",
       "      <td>35</td>\n",
       "      <td>11</td>\n",
       "      <td>4408</td>\n",
       "      <td>1133</td>\n",
       "      <td>19</td>\n",
       "      <td>501</td>\n",
       "      <td>336</td>\n",
       "      <td>194</td>\n",
       "      <td>A</td>\n",
       "      <td>W</td>\n",
       "      <td>282</td>\n",
       "      <td>421</td>\n",
       "      <td>25</td>\n",
       "      <td>750.0</td>\n",
       "      <td>A</td>\n",
       "    </tr>\n",
       "  </tbody>\n",
       "</table>\n",
       "</div>"
      ],
      "text/plain": [
       "   AtBat  Hits  HmRun  Runs  RBI  ...  PutOuts  Assists  Errors  Salary  NewLeague\n",
       "1    315    81      7    24   38  ...      632       43      10   475.0          N\n",
       "2    479   130     18    66   72  ...      880       82      14   480.0          A\n",
       "3    496   141     20    65   78  ...      200       11       3   500.0          N\n",
       "4    321    87     10    39   42  ...      805       40       4    91.5          N\n",
       "5    594   169      4    74   51  ...      282      421      25   750.0          A\n",
       "\n",
       "[5 rows x 20 columns]"
      ]
     },
     "execution_count": 54,
     "metadata": {},
     "output_type": "execute_result"
    }
   ],
   "source": [
    "data_complete.head()"
   ]
  },
  {
   "cell_type": "code",
   "execution_count": 55,
   "id": "277fa002",
   "metadata": {},
   "outputs": [],
   "source": [
    "data_columns = ['AtBat','Hits','HmRun','Runs','RBI','Walks','Years','CAtBat','CHits','CHmRun','CRuns','CRBI','CWalks','PutOuts','Assists','Errors','Salary']"
   ]
  },
  {
   "cell_type": "code",
   "execution_count": 56,
   "id": "2aef595d",
   "metadata": {},
   "outputs": [],
   "source": [
    "data = data_complete.loc[:,data_columns]"
   ]
  },
  {
   "cell_type": "code",
   "execution_count": 57,
   "id": "63fbcae3",
   "metadata": {},
   "outputs": [
    {
     "data": {
      "text/plain": [
       "(263, 17)"
      ]
     },
     "execution_count": 57,
     "metadata": {},
     "output_type": "execute_result"
    }
   ],
   "source": [
    "data.shape"
   ]
  },
  {
   "cell_type": "code",
   "execution_count": 58,
   "id": "9106cb1b",
   "metadata": {},
   "outputs": [],
   "source": [
    "X=data.drop('Salary', axis=1)\n",
    "y=np.log(data['Salary'])"
   ]
  },
  {
   "cell_type": "code",
   "execution_count": 59,
   "id": "03eebed4",
   "metadata": {},
   "outputs": [],
   "source": [
    "X_train, X_test, y_train, y_test = train_test_split(X, y, random_state=127)"
   ]
  },
  {
   "cell_type": "code",
   "execution_count": 60,
   "id": "4c768369",
   "metadata": {},
   "outputs": [],
   "source": [
    "scaler = StandardScaler()\n",
    "X_train_scl = scaler.fit_transform(X_train)"
   ]
  },
  {
   "cell_type": "code",
   "execution_count": 61,
   "id": "e5083d50",
   "metadata": {},
   "outputs": [],
   "source": [
    "X_test_scl = scaler.transform(X_test)"
   ]
  },
  {
   "cell_type": "code",
   "execution_count": 62,
   "id": "6074aa13",
   "metadata": {},
   "outputs": [],
   "source": [
    "model_1 = LinearRegression()\n",
    "fit_1 = model_1.fit(X_train_scl, y_train)"
   ]
  },
  {
   "cell_type": "code",
   "execution_count": 63,
   "id": "24e8aa00",
   "metadata": {},
   "outputs": [
    {
     "name": "stdout",
     "output_type": "stream",
     "text": [
      "MSE of Linear Regression: 0.41435786712109124\n"
     ]
    }
   ],
   "source": [
    "predict_1 = fit_1.predict(X_test_scl)\n",
    "mse_1 = mean_squared_error(y_test, predict_1)\n",
    "print('MSE of Linear Regression:', mse_1)"
   ]
  },
  {
   "cell_type": "code",
   "execution_count": 64,
   "id": "1d55f24d",
   "metadata": {},
   "outputs": [
    {
     "name": "stdout",
     "output_type": "stream",
     "text": [
      "MSE of Lasso Regression: 0.7173814077882883\n"
     ]
    }
   ],
   "source": [
    "model_2 = Lasso(alpha=0.5)\n",
    "fit_2 = model_2.fit(X_train_scl, y_train)\n",
    "predict_2 = fit_2.predict(X_test_scl)\n",
    "mse_2 = mean_squared_error(y_test, predict_2)\n",
    "print('MSE of Lasso Regression:', mse_2)"
   ]
  },
  {
   "cell_type": "code",
   "execution_count": 66,
   "id": "434787e3",
   "metadata": {},
   "outputs": [
    {
     "name": "stdout",
     "output_type": "stream",
     "text": [
      "MSE of Decision Tree Regression: 0.4821064720996552\n"
     ]
    }
   ],
   "source": [
    "model_3 = tree.DecisionTreeRegressor(random_state=127)\n",
    "fit_3 = model_3.fit(X_train_scl, y_train)\n",
    "predict_3 = fit_3.predict(X_test_scl)\n",
    "mse_3 = mean_squared_error(y_test, predict_3)\n",
    "print('MSE of Decision Tree Regression:', mse_3)"
   ]
  },
  {
   "cell_type": "code",
   "execution_count": 67,
   "id": "a71f8bdc",
   "metadata": {},
   "outputs": [],
   "source": [
    "def predict_ensamble(X,model_1, model_2, model_3):\n",
    "    pred_1 = model_1.predict(X)\n",
    "    pred_2 = model_2.predict(X)\n",
    "    pred_3 = model_3.predict(X)\n",
    "    return (pred_1 + pred_2 + pred_3) / 3"
   ]
  },
  {
   "cell_type": "code",
   "execution_count": 68,
   "id": "fa96728d",
   "metadata": {},
   "outputs": [
    {
     "name": "stdout",
     "output_type": "stream",
     "text": [
      "MSE of Ensemble Model: 0.37699744379290095\n"
     ]
    }
   ],
   "source": [
    "y_pred_ensamble = predict_ensamble(X_test_scl, fit_1, fit_2, fit_3)\n",
    "mse_ensamble = mean_squared_error(y_test, y_pred_ensamble)\n",
    "print('MSE of Ensemble Model:', mse_ensamble)"
   ]
  }
 ],
 "metadata": {
  "kernelspec": {
   "display_name": "Python 3",
   "language": "python",
   "name": "python3"
  },
  "language_info": {
   "codemirror_mode": {
    "name": "ipython",
    "version": 3
   },
   "file_extension": ".py",
   "mimetype": "text/x-python",
   "name": "python",
   "nbconvert_exporter": "python",
   "pygments_lexer": "ipython3",
   "version": "3.12.6"
  }
 },
 "nbformat": 4,
 "nbformat_minor": 5
}
